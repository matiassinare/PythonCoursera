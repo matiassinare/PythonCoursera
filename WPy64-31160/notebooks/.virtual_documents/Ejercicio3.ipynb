#Intento instalar joyplot pero parece que no esta más disponible para PIP
!pip install joyplot


# Instalar iertools desde GitHub
!pip install git+https://github.com/iter-tools/iter-tools


# Instalar calplot con PIP
!pip install calplot==0.1.6.4


# Obtener la lista de paquetes instalados con pip freeze y guardarla en requirements.txt
!pip freeze > requirements.txt



