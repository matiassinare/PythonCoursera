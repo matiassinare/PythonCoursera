import calplot
# Mostrar la documentación de yearplot()
help(calplot.yearplot)



