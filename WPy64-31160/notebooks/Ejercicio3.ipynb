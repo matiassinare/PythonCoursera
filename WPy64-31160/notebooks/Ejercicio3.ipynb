{
 "cells": [
  {
   "cell_type": "code",
   "execution_count": 18,
   "id": "890710be-dd88-48ac-8967-3ee3a733b343",
   "metadata": {},
   "outputs": [
    {
     "name": "stderr",
     "output_type": "stream",
     "text": [
      "ERROR: Could not find a version that satisfies the requirement joyplot (from versions: none)\n",
      "ERROR: No matching distribution found for joyplot\n"
     ]
    }
   ],
   "source": [
    "#Intento instalar joyplot pero parece que no esta más disponible para PIP\n",
    "!pip install joyplot"
   ]
  },
  {
   "cell_type": "code",
   "execution_count": 21,
   "id": "5285525d-9f4f-4f22-a3ce-01f33d37b597",
   "metadata": {},
   "outputs": [
    {
     "name": "stdout",
     "output_type": "stream",
     "text": [
      "Collecting git+https://github.com/iter-tools/iter-tools"
     ]
    },
    {
     "name": "stderr",
     "output_type": "stream",
     "text": [
      "  Running command git clone --filter=blob:none --quiet https://github.com/iter-tools/iter-tools 'C:\\Users\\Matias\\AppData\\Local\\Temp\\pip-req-build-9_6g3vu6'\n",
      "ERROR: git+https://github.com/iter-tools/iter-tools does not appear to be a Python project: neither 'setup.py' nor 'pyproject.toml' found.\n"
     ]
    },
    {
     "name": "stdout",
     "output_type": "stream",
     "text": [
      "\n",
      "  Cloning https://github.com/iter-tools/iter-tools to c:\\users\\matias\\appdata\\local\\temp\\pip-req-build-9_6g3vu6\n",
      "  Resolved https://github.com/iter-tools/iter-tools to commit 1d7c1cbdf3fedbccd91ec6c1513a8022050e2125\n"
     ]
    }
   ],
   "source": [
    "# Instalar iertools desde GitHub\n",
    "!pip install git+https://github.com/iter-tools/iter-tools"
   ]
  },
  {
   "cell_type": "code",
   "execution_count": 24,
   "id": "c1935d3c-3a49-40ac-94d7-89de7c687888",
   "metadata": {},
   "outputs": [
    {
     "name": "stdout",
     "output_type": "stream",
     "text": [
      "Requirement already satisfied: calplot==0.1.6.4 in c:\\users\\matias\\documents\\it\\repos\\python\\pythoncoursera\\wpy64-31160\\python-3.11.6.amd64\\lib\\site-packages (0.1.6.4)\n",
      "Requirement already satisfied: matplotlib in c:\\users\\matias\\documents\\it\\repos\\python\\pythoncoursera\\wpy64-31160\\python-3.11.6.amd64\\lib\\site-packages (from calplot==0.1.6.4) (3.8.2)\n",
      "Requirement already satisfied: numpy in c:\\users\\matias\\documents\\it\\repos\\python\\pythoncoursera\\wpy64-31160\\python-3.11.6.amd64\\lib\\site-packages (from calplot==0.1.6.4) (1.26.2)\n",
      "Requirement already satisfied: pandas>=1 in c:\\users\\matias\\documents\\it\\repos\\python\\pythoncoursera\\wpy64-31160\\python-3.11.6.amd64\\lib\\site-packages (from calplot==0.1.6.4) (2.1.3)\n",
      "Requirement already satisfied: python-dateutil>=2.8.2 in c:\\users\\matias\\documents\\it\\repos\\python\\pythoncoursera\\wpy64-31160\\python-3.11.6.amd64\\lib\\site-packages (from pandas>=1->calplot==0.1.6.4) (2.8.2)\n",
      "Requirement already satisfied: pytz>=2020.1 in c:\\users\\matias\\documents\\it\\repos\\python\\pythoncoursera\\wpy64-31160\\python-3.11.6.amd64\\lib\\site-packages (from pandas>=1->calplot==0.1.6.4) (2023.3)\n",
      "Requirement already satisfied: tzdata>=2022.1 in c:\\users\\matias\\documents\\it\\repos\\python\\pythoncoursera\\wpy64-31160\\python-3.11.6.amd64\\lib\\site-packages (from pandas>=1->calplot==0.1.6.4) (2022.7)\n",
      "Requirement already satisfied: contourpy>=1.0.1 in c:\\users\\matias\\documents\\it\\repos\\python\\pythoncoursera\\wpy64-31160\\python-3.11.6.amd64\\lib\\site-packages (from matplotlib->calplot==0.1.6.4) (1.1.1)\n",
      "Requirement already satisfied: cycler>=0.10 in c:\\users\\matias\\documents\\it\\repos\\python\\pythoncoursera\\wpy64-31160\\python-3.11.6.amd64\\lib\\site-packages (from matplotlib->calplot==0.1.6.4) (0.12.1)\n",
      "Requirement already satisfied: fonttools>=4.22.0 in c:\\users\\matias\\documents\\it\\repos\\python\\pythoncoursera\\wpy64-31160\\python-3.11.6.amd64\\lib\\site-packages (from matplotlib->calplot==0.1.6.4) (4.44.0)\n",
      "Requirement already satisfied: kiwisolver>=1.3.1 in c:\\users\\matias\\documents\\it\\repos\\python\\pythoncoursera\\wpy64-31160\\python-3.11.6.amd64\\lib\\site-packages (from matplotlib->calplot==0.1.6.4) (1.4.5)\n",
      "Requirement already satisfied: packaging>=20.0 in c:\\users\\matias\\documents\\it\\repos\\python\\pythoncoursera\\wpy64-31160\\python-3.11.6.amd64\\lib\\site-packages (from matplotlib->calplot==0.1.6.4) (22.0)\n",
      "Requirement already satisfied: pillow>=8 in c:\\users\\matias\\documents\\it\\repos\\python\\pythoncoursera\\wpy64-31160\\python-3.11.6.amd64\\lib\\site-packages (from matplotlib->calplot==0.1.6.4) (10.1.0)\n",
      "Requirement already satisfied: pyparsing>=2.3.1 in c:\\users\\matias\\documents\\it\\repos\\python\\pythoncoursera\\wpy64-31160\\python-3.11.6.amd64\\lib\\site-packages (from matplotlib->calplot==0.1.6.4) (3.0.9)\n",
      "Requirement already satisfied: six>=1.5 in c:\\users\\matias\\documents\\it\\repos\\python\\pythoncoursera\\wpy64-31160\\python-3.11.6.amd64\\lib\\site-packages (from python-dateutil>=2.8.2->pandas>=1->calplot==0.1.6.4) (1.16.0)\n"
     ]
    }
   ],
   "source": [
    "# Instalar calplot con PIP\n",
    "!pip install calplot==0.1.6.4"
   ]
  },
  {
   "cell_type": "code",
   "execution_count": 26,
   "id": "150c95bd-df46-4031-aaaf-894d1de52cb3",
   "metadata": {},
   "outputs": [],
   "source": [
    "# Obtener la lista de paquetes instalados con pip freeze y guardarla en requirements.txt\n",
    "!pip freeze > requirements.txt"
   ]
  },
  {
   "cell_type": "code",
   "execution_count": null,
   "id": "94ef8cce-3f92-424d-979e-015d23a2ec63",
   "metadata": {},
   "outputs": [],
   "source": []
  }
 ],
 "metadata": {
  "kernelspec": {
   "display_name": "Python 3 (ipykernel)",
   "language": "python",
   "name": "python3"
  },
  "language_info": {
   "codemirror_mode": {
    "name": "ipython",
    "version": 3
   },
   "file_extension": ".py",
   "mimetype": "text/x-python",
   "name": "python",
   "nbconvert_exporter": "python",
   "pygments_lexer": "ipython3",
   "version": "3.11.6"
  }
 },
 "nbformat": 4,
 "nbformat_minor": 5
}
